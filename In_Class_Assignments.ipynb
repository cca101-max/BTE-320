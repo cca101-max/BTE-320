{
  "nbformat": 4,
  "nbformat_minor": 0,
  "metadata": {
    "colab": {
      "provenance": [],
      "authorship_tag": "ABX9TyMyQRHzDwW9FhfaOKq1v8Hg",
      "include_colab_link": true
    },
    "kernelspec": {
      "name": "python3",
      "display_name": "Python 3"
    },
    "language_info": {
      "name": "python"
    }
  },
  "cells": [
    {
      "cell_type": "markdown",
      "metadata": {
        "id": "view-in-github",
        "colab_type": "text"
      },
      "source": [
        "<a href=\"https://colab.research.google.com/github/cca101-max/BTE-320/blob/main/In_Class_Assignments.ipynb\" target=\"_parent\"><img src=\"https://colab.research.google.com/assets/colab-badge.svg\" alt=\"Open In Colab\"/></a>"
      ]
    },
    {
      "cell_type": "code",
      "source": [
        "#9/3/25\n",
        "\n",
        "#inputs: sales and cogs\n",
        "\n",
        "sales = input(\"Enter sales ($):\")\n",
        "sales = float(sales)\n",
        "\n",
        "\n",
        "cogs_pct = input(\"Enter Cost of Goods Sold (%)\")\n",
        "cogs_pct = float(cogs_pct)\n",
        "\n",
        "#processes\n",
        "\n",
        "cogs = sales * cogs_pct / 100\n",
        "GrossProfit = sales - cogs\n",
        "\n",
        "#Outputs display COGS and Gross Profit\n",
        "\n",
        "print(f\"Cost of Goods Sold: ${cogs}\")\n",
        "print(f\"Gross Profit: ${GrossProfit}\")\n"
      ],
      "metadata": {
        "colab": {
          "base_uri": "https://localhost:8080/"
        },
        "id": "ajE-VGKqhrYq",
        "outputId": "82dd3b85-7d7b-49bc-b190-c731263a1813"
      },
      "execution_count": null,
      "outputs": [
        {
          "output_type": "stream",
          "name": "stdout",
          "text": [
            "Enter sales ($):12000\n",
            "Enter Cost of Goods Sold (%)40\n",
            "Cost of Goods Sold: $4800.0\n",
            "Gross Profit: $7200.0\n"
          ]
        }
      ]
    },
    {
      "cell_type": "code",
      "source": [
        "#inputs: sales and cogs\n",
        "\n",
        "sales = input(\"Enter sales ($):\")\n",
        "sales = float(sales)\n",
        "\n",
        "\n",
        "cogs_pct = input(\"Enter Cost of Goods Sold(%)\")\n",
        "cogs_pct = float(cogs_pct)\n",
        "\n",
        "taxRate = input(\"Enter Tax Rate (%):\")\n",
        "taxRate = float(taxRate)\n",
        "\n",
        "#processes\n",
        "\n",
        "cogs = sales * cogs_pct / 100\n",
        "GrossProfit = sales - cogs\n",
        "\n",
        "Taxes = GrossProfit * taxRate /100\n",
        "netIncome = GrossProfit - Taxes\n",
        "\n",
        "#Outputs display COGS and Gross Profit\n",
        "\n",
        "print(f\"Cost of Goods Sold: ${cogs}\")\n",
        "print(f\"Gross Profit: ${GrossProfit}\")\n",
        "print(f\"Taxes: ${Taxes}\")\n",
        "print(f\"Net Income: ${netIncome}\")"
      ],
      "metadata": {
        "colab": {
          "base_uri": "https://localhost:8080/"
        },
        "id": "8rAN5mlcl_ys",
        "outputId": "a6c4b401-6f35-4426-f95e-9689b613866b"
      },
      "execution_count": null,
      "outputs": [
        {
          "output_type": "stream",
          "name": "stdout",
          "text": [
            "Enter sales ($):12000\n",
            "Enter Cost of Goods Sold(%)40\n",
            "Enter Tax Rate (%):30\n",
            "Cost of Goods Sold: $4800.0\n",
            "Gross Profit: $7200.0\n",
            "Taxes: $2160.0\n",
            "Net Income: $5040.0\n"
          ]
        }
      ]
    },
    {
      "cell_type": "code",
      "source": [
        "#9/8/25\n",
        "\n",
        "#inputs\n",
        "\n",
        "demand = input(\"Enter Annual Demand (Units/year):\")\n",
        "demand = int(demand)\n",
        "\n",
        "reorder = input (\"Enter Reorder Cost ($/unit):\")\n",
        "reorder = float(reorder)\n",
        "\n",
        "holding= input(\"Enter Holding Cost($/unit/year):\")\n",
        "holding= int(holding)\n",
        "\n",
        "\n",
        "#Process\n",
        "# sqrt is equal x to raised 1/2\n",
        "\n",
        "EOQ = ((2* demand * reorder)/holding)**0.5\n",
        "\n",
        "#Output\n",
        "print(f\"EOQ:{int(EOQ)} units\")\n"
      ],
      "metadata": {
        "colab": {
          "base_uri": "https://localhost:8080/"
        },
        "id": "0hk5K4UhIwQB",
        "outputId": "e1e7da8c-a07c-43f5-f1b9-399e4e3e4382"
      },
      "execution_count": null,
      "outputs": [
        {
          "output_type": "stream",
          "name": "stdout",
          "text": [
            "Enter Annual Demand (Units/year):100\n",
            "Enter Reorder Cost ($/unit):1.5\n",
            "Enter Holding Cost($/unit/year):3\n",
            "EOQ:10 units\n"
          ]
        }
      ]
    },
    {
      "cell_type": "code",
      "source": [
        "#9/15/25\n",
        "\n",
        "n1=float(input(\"Enter n1: \"))\n",
        "n2=float(input(\"Enter n2: \"))\n",
        "op = input (\"Enter operator (+,-,*,/,**,%): \")\n",
        "\n",
        "if op == \"+\":\\\n",
        " res = n1 + n2\n",
        "elif op == \"-\":\n",
        " res = n1 - n2\n",
        "elif op == \"*\":\n",
        " res = n1 * n2\n",
        "elif op == \"/\":\n",
        " res = n1 / n2\n",
        "elif op == \"//\":\n",
        " res = n1 // n2\n",
        "elif op == \"**\":\n",
        " res = n1 ** n2\n",
        "elif op == \"%\":\n",
        " res = n1 % n2\n",
        "else: print(\"Invalid operator\")\n",
        "\n",
        "print(f\"result:{res}\")\n"
      ],
      "metadata": {
        "colab": {
          "base_uri": "https://localhost:8080/"
        },
        "id": "KBemokkzPUuA",
        "outputId": "c7b109b4-8137-490c-fa64-d6149c45078c"
      },
      "execution_count": null,
      "outputs": [
        {
          "output_type": "stream",
          "name": "stdout",
          "text": [
            "Enter n1: 5\n",
            "Enter n2: 2\n",
            "Enter operator (+,-,*,/,**,%): +\n",
            "result:7.0\n"
          ]
        }
      ]
    }
  ]
}