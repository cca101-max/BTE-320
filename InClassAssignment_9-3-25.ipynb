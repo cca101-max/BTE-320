{
  "nbformat": 4,
  "nbformat_minor": 0,
  "metadata": {
    "colab": {
      "provenance": [],
      "authorship_tag": "ABX9TyPKeABVf/jTxCRIPdBTHH40",
      "include_colab_link": true
    },
    "kernelspec": {
      "name": "python3",
      "display_name": "Python 3"
    },
    "language_info": {
      "name": "python"
    }
  },
  "cells": [
    {
      "cell_type": "markdown",
      "metadata": {
        "id": "view-in-github",
        "colab_type": "text"
      },
      "source": [
        "<a href=\"https://colab.research.google.com/github/cca101-max/BTE-320/blob/main/InClassAssignment_9-3-25.ipynb\" target=\"_parent\"><img src=\"https://colab.research.google.com/assets/colab-badge.svg\" alt=\"Open In Colab\"/></a>"
      ]
    },
    {
      "cell_type": "code",
      "source": [
        "#inputs: sales and cogs\n",
        "\n",
        "sales = input(\"Enter sales ($):\")\n",
        "sales = float(sales)\n",
        "\n",
        "\n",
        "cogs_pct = input(\"Enter Cost of Goods Sold (%)\")\n",
        "cogs_pct = float(cogs_pct)\n",
        "\n",
        "#processes\n",
        "\n",
        "cogs = sales * cogs_pct / 100\n",
        "GrossProfit = sales - cogs\n",
        "\n",
        "#Outputs display COGS and Gross Profit\n",
        "\n",
        "print(f\"Cost of Goods Sold: ${cogs}\")\n",
        "print(f\"Gross Profit: ${GrossProfit}\")\n"
      ],
      "metadata": {
        "colab": {
          "base_uri": "https://localhost:8080/"
        },
        "id": "ajE-VGKqhrYq",
        "outputId": "82dd3b85-7d7b-49bc-b190-c731263a1813"
      },
      "execution_count": 17,
      "outputs": [
        {
          "output_type": "stream",
          "name": "stdout",
          "text": [
            "Enter sales ($):12000\n",
            "Enter Cost of Goods Sold (%)40\n",
            "Cost of Goods Sold: $4800.0\n",
            "Gross Profit: $7200.0\n"
          ]
        }
      ]
    },
    {
      "cell_type": "code",
      "source": [
        "#inputs: sales and cogs\n",
        "\n",
        "sales = input(\"Enter sales ($):\")\n",
        "sales = float(sales)\n",
        "\n",
        "\n",
        "cogs_pct = input(\"Enter Cost of Goods Sold(%)\")\n",
        "cogs_pct = float(cogs_pct)\n",
        "\n",
        "taxRate = input(\"Enter Tax Rate (%):\")\n",
        "taxRate = float(taxRate)\n",
        "\n",
        "#processes\n",
        "\n",
        "cogs = sales * cogs_pct / 100\n",
        "GrossProfit = sales - cogs\n",
        "\n",
        "Taxes = GrossProfit * taxRate /100\n",
        "netIncome = GrossProfit - Taxes\n",
        "\n",
        "#Outputs display COGS and Gross Profit\n",
        "\n",
        "print(f\"Cost of Goods Sold: ${cogs}\")\n",
        "print(f\"Gross Profit: ${GrossProfit}\")\n",
        "print(f\"Taxes: ${Taxes}\")\n",
        "print(f\"Net Income: ${netIncome}\")"
      ],
      "metadata": {
        "colab": {
          "base_uri": "https://localhost:8080/"
        },
        "id": "8rAN5mlcl_ys",
        "outputId": "a6c4b401-6f35-4426-f95e-9689b613866b"
      },
      "execution_count": 23,
      "outputs": [
        {
          "output_type": "stream",
          "name": "stdout",
          "text": [
            "Enter sales ($):12000\n",
            "Enter Cost of Goods Sold(%)40\n",
            "Enter Tax Rate (%):30\n",
            "Cost of Goods Sold: $4800.0\n",
            "Gross Profit: $7200.0\n",
            "Taxes: $2160.0\n",
            "Net Income: $5040.0\n"
          ]
        }
      ]
    }
  ]
}